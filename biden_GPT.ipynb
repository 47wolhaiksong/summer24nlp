{
 "cells":[
  {
   "cell_type":"markdown",
   "source":[
    "Code inspiration - [Andrej Karpathy's nanoGPT](https:\/\/github.com\/karpathy\/nanoGPT)"
   ],
   "attachments":{},
   "metadata":{
    "datalore":{
     "node_id":"NqWsrBxQHoIJzdRKSbdWD6",
     "type":"MD",
     "hide_input_from_viewers":true,
     "hide_output_from_viewers":true
    }
   }
  },
  {
   "cell_type":"code",
   "source":[
    "!ls"
   ],
   "execution_count":1,
   "outputs":[
    {
     "name":"stdout",
     "text":[
      "sample_data\n"
     ],
     "output_type":"stream"
    }
   ],
   "metadata":{
    "datalore":{
     "node_id":"6rnLbIOztVlDk8lW6MgDjN",
     "type":"CODE",
     "hide_input_from_viewers":false,
     "hide_output_from_viewers":false,
     "report_properties":{
      "rowId":"MmfhFdUlaSlFSWdK2d1tud"
     }
    }
   }
  },
  {
   "cell_type":"code",
   "source":[
    "from google.colab import files\n",
    "\n",
    "uploaded = files.upload()\n",
    "\n",
    "for fn in uploaded.keys():\n",
    "  print('User uploaded file \"{name}\" with length {length} bytes'.format(\n",
    "      name=fn, length=len(uploaded[fn])))\n",
    "  with open(fn, 'wb') as f:\n",
    "    f.write(uploaded[fn])\n",
    "  print('File uploaded successfully!')"
   ],
   "execution_count":2,
   "outputs":[
    {
     "name":"stdout",
     "text":[
      "\n",
      "Saving biden.txt to biden.txt\n",
      "User uploaded file \"biden.txt\" with length 269315 bytes\n",
      "File uploaded successfully!\n"
     ],
     "output_type":"stream"
    },
    {
     "name":"stderr",
     "text":[
      "\n"
     ],
     "output_type":"stream"
    },
    {
     "data":{
      "text\/plain":[
       "<IPython.core.display.HTML object>"
      ]
     },
     "metadata":{},
     "output_type":"display_data"
    },
    {
     "data":{
      "text\/html":[
       "\n",
       "     <input type=\"file\" id=\"files-1d997423-9ce9-4ca0-b110-1ef97df3f3df\" name=\"files[]\" multiple disabled\n",
       "        style=\"border:none\" \/>\n",
       "     <output id=\"result-1d997423-9ce9-4ca0-b110-1ef97df3f3df\">\n",
       "      Upload widget is only available when the cell has been executed in the\n",
       "      current browser session. Please rerun this cell to enable.\n",
       "      <\/output>\n",
       "      <script>\/\/ Copyright 2017 Google LLC\n",
       "\/\/\n",
       "\/\/ Licensed under the Apache License, Version 2.0 (the \"License\");\n",
       "\/\/ you may not use this file except in compliance with the License.\n",
       "\/\/ You may obtain a copy of the License at\n",
       "\/\/\n",
       "\/\/      http:\/\/www.apache.org\/licenses\/LICENSE-2.0\n",
       "\/\/\n",
       "\/\/ Unless required by applicable law or agreed to in writing, software\n",
       "\/\/ distributed under the License is distributed on an \"AS IS\" BASIS,\n",
       "\/\/ WITHOUT WARRANTIES OR CONDITIONS OF ANY KIND, either express or implied.\n",
       "\/\/ See the License for the specific language governing permissions and\n",
       "\/\/ limitations under the License.\n",
       "\n",
       "\/**\n",
       " * @fileoverview Helpers for google.colab Python module.\n",
       " *\/\n",
       "(function(scope) {\n",
       "function span(text, styleAttributes = {}) {\n",
       "  const element = document.createElement('span');\n",
       "  element.textContent = text;\n",
       "  for (const key of Object.keys(styleAttributes)) {\n",
       "    element.style[key] = styleAttributes[key];\n",
       "  }\n",
       "  return element;\n",
       "}\n",
       "\n",
       "\/\/ Max number of bytes which will be uploaded at a time.\n",
       "const MAX_PAYLOAD_SIZE = 100 * 1024;\n",
       "\n",
       "function _uploadFiles(inputId, outputId) {\n",
       "  const steps = uploadFilesStep(inputId, outputId);\n",
       "  const outputElement = document.getElementById(outputId);\n",
       "  \/\/ Cache steps on the outputElement to make it available for the next call\n",
       "  \/\/ to uploadFilesContinue from Python.\n",
       "  outputElement.steps = steps;\n",
       "\n",
       "  return _uploadFilesContinue(outputId);\n",
       "}\n",
       "\n",
       "\/\/ This is roughly an async generator (not supported in the browser yet),\n",
       "\/\/ where there are multiple asynchronous steps and the Python side is going\n",
       "\/\/ to poll for completion of each step.\n",
       "\/\/ This uses a Promise to block the python side on completion of each step,\n",
       "\/\/ then passes the result of the previous step as the input to the next step.\n",
       "function _uploadFilesContinue(outputId) {\n",
       "  const outputElement = document.getElementById(outputId);\n",
       "  const steps = outputElement.steps;\n",
       "\n",
       "  const next = steps.next(outputElement.lastPromiseValue);\n",
       "  return Promise.resolve(next.value.promise).then((value) => {\n",
       "    \/\/ Cache the last promise value to make it available to the next\n",
       "    \/\/ step of the generator.\n",
       "    outputElement.lastPromiseValue = value;\n",
       "    return next.value.response;\n",
       "  });\n",
       "}\n",
       "\n",
       "\/**\n",
       " * Generator function which is called between each async step of the upload\n",
       " * process.\n",
       " * @param {string} inputId Element ID of the input file picker element.\n",
       " * @param {string} outputId Element ID of the output display.\n",
       " * @return {!Iterable<!Object>} Iterable of next steps.\n",
       " *\/\n",
       "function* uploadFilesStep(inputId, outputId) {\n",
       "  const inputElement = document.getElementById(inputId);\n",
       "  inputElement.disabled = false;\n",
       "\n",
       "  const outputElement = document.getElementById(outputId);\n",
       "  outputElement.innerHTML = '';\n",
       "\n",
       "  const pickedPromise = new Promise((resolve) => {\n",
       "    inputElement.addEventListener('change', (e) => {\n",
       "      resolve(e.target.files);\n",
       "    });\n",
       "  });\n",
       "\n",
       "  const cancel = document.createElement('button');\n",
       "  inputElement.parentElement.appendChild(cancel);\n",
       "  cancel.textContent = 'Cancel upload';\n",
       "  const cancelPromise = new Promise((resolve) => {\n",
       "    cancel.onclick = () => {\n",
       "      resolve(null);\n",
       "    };\n",
       "  });\n",
       "\n",
       "  \/\/ Wait for the user to pick the files.\n",
       "  const files = yield {\n",
       "    promise: Promise.race([pickedPromise, cancelPromise]),\n",
       "    response: {\n",
       "      action: 'starting',\n",
       "    }\n",
       "  };\n",
       "\n",
       "  cancel.remove();\n",
       "\n",
       "  \/\/ Disable the input element since further picks are not allowed.\n",
       "  inputElement.disabled = true;\n",
       "\n",
       "  if (!files) {\n",
       "    return {\n",
       "      response: {\n",
       "        action: 'complete',\n",
       "      }\n",
       "    };\n",
       "  }\n",
       "\n",
       "  for (const file of files) {\n",
       "    const li = document.createElement('li');\n",
       "    li.append(span(file.name, {fontWeight: 'bold'}));\n",
       "    li.append(span(\n",
       "        `(${file.type || 'n\/a'}) - ${file.size} bytes, ` +\n",
       "        `last modified: ${\n",
       "            file.lastModifiedDate ? file.lastModifiedDate.toLocaleDateString() :\n",
       "                                    'n\/a'} - `));\n",
       "    const percent = span('0% done');\n",
       "    li.appendChild(percent);\n",
       "\n",
       "    outputElement.appendChild(li);\n",
       "\n",
       "    const fileDataPromise = new Promise((resolve) => {\n",
       "      const reader = new FileReader();\n",
       "      reader.onload = (e) => {\n",
       "        resolve(e.target.result);\n",
       "      };\n",
       "      reader.readAsArrayBuffer(file);\n",
       "    });\n",
       "    \/\/ Wait for the data to be ready.\n",
       "    let fileData = yield {\n",
       "      promise: fileDataPromise,\n",
       "      response: {\n",
       "        action: 'continue',\n",
       "      }\n",
       "    };\n",
       "\n",
       "    \/\/ Use a chunked sending to avoid message size limits. See b\/62115660.\n",
       "    let position = 0;\n",
       "    do {\n",
       "      const length = Math.min(fileData.byteLength - position, MAX_PAYLOAD_SIZE);\n",
       "      const chunk = new Uint8Array(fileData, position, length);\n",
       "      position += length;\n",
       "\n",
       "      const base64 = btoa(String.fromCharCode.apply(null, chunk));\n",
       "      yield {\n",
       "        response: {\n",
       "          action: 'append',\n",
       "          file: file.name,\n",
       "          data: base64,\n",
       "        },\n",
       "      };\n",
       "\n",
       "      let percentDone = fileData.byteLength === 0 ?\n",
       "          100 :\n",
       "          Math.round((position \/ fileData.byteLength) * 100);\n",
       "      percent.textContent = `${percentDone}% done`;\n",
       "\n",
       "    } while (position < fileData.byteLength);\n",
       "  }\n",
       "\n",
       "  \/\/ All done.\n",
       "  yield {\n",
       "    response: {\n",
       "      action: 'complete',\n",
       "    }\n",
       "  };\n",
       "}\n",
       "\n",
       "scope.google = scope.google || {};\n",
       "scope.google.colab = scope.google.colab || {};\n",
       "scope.google.colab._files = {\n",
       "  _uploadFiles,\n",
       "  _uploadFilesContinue,\n",
       "};\n",
       "})(self);\n",
       "<\/script> "
      ]
     },
     "metadata":{},
     "output_type":"display_data"
    }
   ],
   "metadata":{
    "datalore":{
     "node_id":"HMtYyW1hCYRZWkDjI5E1f3",
     "type":"CODE",
     "hide_input_from_viewers":false,
     "hide_output_from_viewers":false,
     "report_properties":{
      "rowId":"ti3kh56jV0lf7Q24YGgX65"
     }
    }
   }
  },
  {
   "cell_type":"code",
   "source":[
    "!ls"
   ],
   "execution_count":3,
   "outputs":[
    {
     "name":"stdout",
     "text":[
      "biden.txt  sample_data\n"
     ],
     "output_type":"stream"
    }
   ],
   "metadata":{
    "datalore":{
     "node_id":"pz3vEFSIfpi56hDXreB9Xd",
     "type":"CODE",
     "hide_input_from_viewers":false,
     "hide_output_from_viewers":false,
     "report_properties":{
      "rowId":"bTXOT6laEet5EjNfA09NDv"
     }
    }
   }
  },
  {
   "cell_type":"code",
   "source":[
    "pip install tiktoken"
   ],
   "execution_count":4,
   "outputs":[
    {
     "name":"stdout",
     "text":[
      "Collecting tiktoken\n",
      "  Downloading tiktoken-0.7.0-cp310-cp310-manylinux_2_17_x86_64.manylinux2014_x86_64.whl (1.1 MB)\n",
      "\u001b[2K     \u001b[90m━━━━━━━━━━━━━━━━━━━━━━━━━━━━━━━━━━━━━━━━\u001b[0m \u001b[32m1.1\/1.1 MB\u001b[0m \u001b[31m10.8 MB\/s\u001b[0m eta \u001b[36m0:00:00\u001b[0m\n",
      "\u001b[?25hRequirement already satisfied: regex>=2022.1.18 in \/usr\/local\/lib\/python3.10\/dist-packages (from tiktoken) (2024.5.15)\n",
      "Requirement already satisfied: requests>=2.26.0 in \/usr\/local\/lib\/python3.10\/dist-packages (from tiktoken) (2.31.0)\n",
      "Requirement already satisfied: charset-normalizer<4,>=2 in \/usr\/local\/lib\/python3.10\/dist-packages (from requests>=2.26.0->tiktoken) (3.3.2)\n",
      "Requirement already satisfied: idna<4,>=2.5 in \/usr\/local\/lib\/python3.10\/dist-packages (from requests>=2.26.0->tiktoken) (3.7)\n",
      "Requirement already satisfied: urllib3<3,>=1.21.1 in \/usr\/local\/lib\/python3.10\/dist-packages (from requests>=2.26.0->tiktoken) (2.0.7)\n",
      "Requirement already satisfied: certifi>=2017.4.17 in \/usr\/local\/lib\/python3.10\/dist-packages (from requests>=2.26.0->tiktoken) (2024.6.2)\n",
      "Installing collected packages: tiktoken\n",
      "Successfully installed tiktoken-0.7.0\n"
     ],
     "output_type":"stream"
    }
   ],
   "metadata":{
    "datalore":{
     "node_id":"WXNzE6gQQ088BG4xBiZyG4",
     "type":"CODE",
     "hide_input_from_viewers":false,
     "hide_output_from_viewers":false,
     "report_properties":{
      "rowId":"PkG79684Pd8aoq204IDbSB"
     }
    }
   }
  },
  {
   "cell_type":"code",
   "source":[
    "import tiktoken\n",
    "enc = tiktoken.encoding_for_model(\"gpt-4o\")\n",
    "assert enc.decode(enc.encode(\"hello world\")) == \"hello world\""
   ],
   "execution_count":null,
   "outputs":[],
   "metadata":{
    "datalore":{
     "node_id":"zam1YSMiFw4WjKOcukNhRc",
     "type":"CODE",
     "hide_input_from_viewers":false,
     "hide_output_from_viewers":false,
     "report_properties":{
      "rowId":"Q27BJL5jUZ6SXz1rp61JvM"
     }
    }
   }
  },
  {
   "cell_type":"code",
   "source":[
    "enc.encode('hello world')"
   ],
   "execution_count":6,
   "outputs":[
    {
     "data":{
      "text\/plain":[
       "[24912, 2375]"
      ]
     },
     "metadata":{},
     "output_type":"display_data"
    }
   ],
   "metadata":{
    "datalore":{
     "node_id":"2snPcNOhEsjicIf1xsQ2Vi",
     "type":"CODE",
     "hide_input_from_viewers":false,
     "hide_output_from_viewers":false,
     "report_properties":{
      "rowId":"P497OgDaWbmKFFBXq4qYle"
     }
    }
   }
  },
  {
   "cell_type":"code",
   "source":[
    "import torch\n",
    "import torch.nn as nn\n",
    "from torch.nn import functional as F"
   ],
   "execution_count":null,
   "outputs":[],
   "metadata":{
    "datalore":{
     "node_id":"nZ54NyiKjqVW7uiucfP6bJ",
     "type":"CODE",
     "hide_input_from_viewers":false,
     "hide_output_from_viewers":false,
     "report_properties":{
      "rowId":"kSgfuoYlj3y1UuhC8YgYfl"
     }
    }
   }
  },
  {
   "cell_type":"code",
   "source":[
    "# hyperparameters\n",
    "batch_size = 16\n",
    "block_size = 128\n",
    "device = 'cuda' if torch.cuda.is_available() else 'cpu'"
   ],
   "execution_count":null,
   "outputs":[],
   "metadata":{
    "datalore":{
     "node_id":"h0rihEHGDdFEtVCYLLLEAL",
     "type":"CODE",
     "hide_input_from_viewers":false,
     "hide_output_from_viewers":false,
     "report_properties":{
      "rowId":"Er2Qv45Tg0ajEjXJv86ZKy"
     }
    }
   }
  },
  {
   "cell_type":"code",
   "source":[
    "torch.cuda.is_available()"
   ],
   "execution_count":9,
   "outputs":[
    {
     "data":{
      "text\/plain":[
       "True"
      ]
     },
     "metadata":{},
     "output_type":"display_data"
    }
   ],
   "metadata":{
    "datalore":{
     "node_id":"cAObAacjxONv2MB1jS02Dc",
     "type":"CODE",
     "hide_input_from_viewers":false,
     "hide_output_from_viewers":false,
     "report_properties":{
      "rowId":"s0tDPIeZb9xevKL3LfHQAu"
     }
    }
   }
  },
  {
   "cell_type":"code",
   "source":[
    "with open('biden.txt', 'r', encoding='utf-8') as f:\n",
    "    text = f.read()"
   ],
   "execution_count":null,
   "outputs":[],
   "metadata":{
    "datalore":{
     "node_id":"JJ9amtQoIyIAJPnm0eAFzy",
     "type":"CODE",
     "hide_input_from_viewers":false,
     "hide_output_from_viewers":false,
     "report_properties":{
      "rowId":"kLLJlNs8svumLwaZY6uKqb"
     }
    }
   }
  },
  {
   "cell_type":"code",
   "source":[
    "tokens = list(set(enc.encode(text)))\n",
    "vocab_size = len(tokens)\n",
    "print(vocab_size)"
   ],
   "execution_count":11,
   "outputs":[
    {
     "name":"stdout",
     "text":[
      "6114\n"
     ],
     "output_type":"stream"
    }
   ],
   "metadata":{
    "datalore":{
     "node_id":"Ruhz9itDBMyW0JK4MTwmzX",
     "type":"CODE",
     "hide_input_from_viewers":false,
     "hide_output_from_viewers":false,
     "report_properties":{
      "rowId":"MI5fLxZAI3W7vhjfyS5tNl"
     }
    }
   }
  },
  {
   "cell_type":"code",
   "source":[
    "encode = enc.encode\n",
    "decode = enc.decode"
   ],
   "execution_count":null,
   "outputs":[],
   "metadata":{
    "datalore":{
     "node_id":"s8EL0lBcoTAi8XudF45lwd",
     "type":"CODE",
     "hide_input_from_viewers":false,
     "hide_output_from_viewers":false,
     "report_properties":{
      "rowId":"wstTpCz2zsIpX2FRnh315K"
     }
    }
   }
  },
  {
   "cell_type":"code",
   "source":[
    "tknid2idx = {}\n",
    "i = 0\n",
    "for t in tokens:\n",
    "  if t not in tknid2idx:\n",
    "    tknid2idx[t] = i\n",
    "    i += 1\n",
    "\n",
    "idx2tknid = {i : t for t, i in tknid2idx.items()}"
   ],
   "execution_count":null,
   "outputs":[],
   "metadata":{
    "datalore":{
     "node_id":"gPWNu9ZEayP8bddK6Rs1Z1",
     "type":"CODE",
     "hide_input_from_viewers":false,
     "hide_output_from_viewers":false,
     "report_properties":{
      "rowId":"ZtwzZ4vaG9ai3yLX351NpM"
     }
    }
   }
  },
  {
   "cell_type":"code",
   "source":[
    "data = torch.tensor(encode(text), dtype=torch.long)\n",
    "n = int(0.9*len(data))\n",
    "train_data = data[:]\n",
    "val_data = data[n:]"
   ],
   "execution_count":null,
   "outputs":[],
   "metadata":{
    "datalore":{
     "node_id":"TpqQSCDTJv0e2MDzxaSKyd",
     "type":"CODE",
     "hide_input_from_viewers":false,
     "hide_output_from_viewers":false,
     "report_properties":{
      "rowId":"IoLl7Dgz8KCZkIgxgNOlMv"
     }
    }
   }
  },
  {
   "cell_type":"code",
   "source":[
    "# data loading\n",
    "def get_batch(split):\n",
    "    data = train_data if split == 'train' else val_data\n",
    "    ix = torch.randint(len(data) - block_size, (batch_size,))\n",
    "    x = torch.stack([data[i:i+block_size] for i in ix])\n",
    "    y = torch.stack([data[i+1:i+block_size+1] for i in ix])\n",
    "    return x, y"
   ],
   "execution_count":null,
   "outputs":[],
   "metadata":{
    "datalore":{
     "node_id":"7BRG2UpbWSelyW03WfMOYb",
     "type":"CODE",
     "hide_input_from_viewers":false,
     "hide_output_from_viewers":false,
     "report_properties":{
      "rowId":"XCez8eWbYExbNwJsaPiVmq"
     }
    }
   }
  },
  {
   "cell_type":"code",
   "source":[
    "# loss estimation\n",
    "@torch.no_grad()\n",
    "def estimate_loss():\n",
    "    out = {}\n",
    "    model.eval()\n",
    "    for split in ['train', 'val']:\n",
    "        losses = torch.zeros(eval_iters)\n",
    "        for k in range(eval_iters):\n",
    "            X, Y = get_batch(split)\n",
    "            logits, loss = model(torch.tensor([[tknid2idx[i] for i in row]\n",
    "                                    for row in X.tolist()]).to(device), \\\n",
    "                                 torch.tensor([[tknid2idx[i] for i in row]\n",
    "                                    for row in Y.tolist()]).to(device))\n",
    "            losses[k] = loss.item()\n",
    "        out[split] = losses.mean()\n",
    "    model.train()\n",
    "    return out"
   ],
   "execution_count":null,
   "outputs":[],
   "metadata":{
    "datalore":{
     "node_id":"Lao1faR6AzmkLAwZTSpuTw",
     "type":"CODE",
     "hide_input_from_viewers":false,
     "hide_output_from_viewers":false,
     "report_properties":{
      "rowId":"b2klzu1boaCelvMnFmh4cl"
     }
    }
   }
  },
  {
   "cell_type":"code",
   "source":[
    "n_embd = 384\n",
    "n_head = 6\n",
    "n_layer = 6\n",
    "dropout = 0.2"
   ],
   "execution_count":null,
   "outputs":[],
   "metadata":{
    "datalore":{
     "node_id":"DJNA5AqRY26jSruLh5xFb4",
     "type":"CODE",
     "hide_input_from_viewers":false,
     "hide_output_from_viewers":false,
     "report_properties":{
      "rowId":"RtfTBY6sqZqjNn5yVVYIoJ"
     }
    }
   }
  },
  {
   "cell_type":"code",
   "source":[
    "class Head(nn.Module):\n",
    "    \"\"\" one head of self-attention \"\"\"\n",
    "\n",
    "    def __init__(self, head_size):\n",
    "        super().__init__()\n",
    "        self.key = nn.Linear(n_embd, head_size, bias=False)\n",
    "        self.query = nn.Linear(n_embd, head_size, bias=False)\n",
    "        self.value = nn.Linear(n_embd, head_size, bias=False)\n",
    "        self.register_buffer('tril', torch.tril(torch.ones(block_size, block_size))) #.to(device))\n",
    "\n",
    "        self.dropout = nn.Dropout(dropout)\n",
    "\n",
    "    def forward(self, x):\n",
    "        # input of size (batch, time-step, channels)\n",
    "        # output of size (batch, time-step, head size)\n",
    "        B,T,C = x.shape\n",
    "        k = self.key(x)   # (B,T,hs)\n",
    "        q = self.query(x) # (B,T,hs)\n",
    "        # compute attention scores (\"affinities\")\n",
    "        wei = q @ k.transpose(-2,-1) * k.shape[-1]**-0.5 # (B, T, hs) @ (B, hs, T) -> (B, T, T)\n",
    "        wei = wei.masked_fill(self.tril[:T, :T] == 0, float('-inf')) # (B, T, T)\n",
    "        wei = F.softmax(wei, dim=-1) # (B, T, T)\n",
    "        wei = self.dropout(wei)\n",
    "        # perform the weighted aggregation of the values\n",
    "        v = self.value(x) # (B,T,hs)\n",
    "        out = wei @ v # (B, T, T) @ (B, T, hs) -> (B, T, hs)\n",
    "        return out\n",
    "\n",
    "class MultiHeadAttention(nn.Module):\n",
    "    \"\"\" multiple heads of self-attention in parallel \"\"\"\n",
    "\n",
    "    def __init__(self, num_heads, head_size):\n",
    "        super().__init__()\n",
    "        self.heads = nn.ModuleList([Head(head_size) for _ in range(num_heads)])\n",
    "        self.proj = nn.Linear(head_size * num_heads, n_embd)\n",
    "        self.dropout = nn.Dropout(dropout)\n",
    "\n",
    "    def forward(self, x):\n",
    "        out = torch.cat([h(x) for h in self.heads], dim=-1)\n",
    "        out = self.dropout(self.proj(out))\n",
    "        return out\n",
    "\n",
    "class FeedFoward(nn.Module):\n",
    "    \"\"\" a simple linear layer followed by a non-linearity \"\"\"\n",
    "\n",
    "    def __init__(self, n_embd):\n",
    "        super().__init__()\n",
    "        self.net = nn.Sequential(\n",
    "            nn.Linear(n_embd, 4 * n_embd),\n",
    "            nn.ReLU(),\n",
    "            nn.Linear(4 * n_embd, n_embd),\n",
    "            nn.Dropout(dropout),\n",
    "        )\n",
    "\n",
    "    def forward(self, x):\n",
    "        return self.net(x)\n",
    "\n",
    "class Block(nn.Module):\n",
    "    \"\"\" Transformer block: communication followed by computation \"\"\"\n",
    "\n",
    "    def __init__(self, n_embd, n_head):\n",
    "        # n_embd: embedding dimension, n_head: the number of heads we'd like\n",
    "        super().__init__()\n",
    "        head_size = n_embd \/\/ n_head\n",
    "        self.sa = MultiHeadAttention(n_head, head_size)\n",
    "        self.ffwd = FeedFoward(n_embd)\n",
    "        self.ln1 = nn.LayerNorm(n_embd)\n",
    "        self.ln2 = nn.LayerNorm(n_embd)\n",
    "\n",
    "    def forward(self, x):\n",
    "        x = x + self.sa(self.ln1(x))\n",
    "        x = x + self.ffwd(self.ln2(x))\n",
    "        return x\n",
    "\n",
    "class GPTLanguageModel(nn.Module):\n",
    "\n",
    "    def __init__(self):\n",
    "        super().__init__()\n",
    "        # each token directly reads off the logits for the next token from a lookup table\n",
    "        self.token_embedding_table = nn.Embedding(vocab_size, n_embd)\n",
    "        self.position_embedding_table = nn.Embedding(block_size, n_embd)\n",
    "        self.blocks = nn.Sequential(*[Block(n_embd, n_head=n_head) for _ in range(n_layer)])\n",
    "        self.ln_f = nn.LayerNorm(n_embd) # final layer norm\n",
    "        self.lm_head = nn.Linear(n_embd, vocab_size)\n",
    "\n",
    "        # better init, not covered in the original GPT video, but important, will cover in followup video\n",
    "        self.apply(self._init_weights)\n",
    "\n",
    "    def _init_weights(self, module):\n",
    "        if isinstance(module, nn.Linear):\n",
    "            torch.nn.init.normal_(module.weight, mean=0.0, std=0.02)\n",
    "            if module.bias is not None:\n",
    "                torch.nn.init.zeros_(module.bias)\n",
    "        elif isinstance(module, nn.Embedding):\n",
    "            torch.nn.init.normal_(module.weight, mean=0.0, std=0.02)\n",
    "\n",
    "    def forward(self, idx, targets=None):\n",
    "        B, T = idx.shape\n",
    "\n",
    "        # idx and targets are both (B,T) tensor of integers\n",
    "        tok_emb = self.token_embedding_table(idx) # (B,T,C)\n",
    "        pos_emb = self.position_embedding_table(torch.arange(T, device=device)) # (T,C)\n",
    "        pos_emb = pos_emb.unsqueeze(0).expand(B, -1, -1)  # (B,T,C)\n",
    "        x = tok_emb + pos_emb # (B,T,C)\n",
    "        x = self.blocks(x) # (B,T,C)\n",
    "        x = self.ln_f(x) # (B,T,C)\n",
    "        logits = self.lm_head(x) # (B,T,vocab_size)\n",
    "\n",
    "        if targets is None:\n",
    "            loss = None\n",
    "        else:\n",
    "            B, T, C = logits.shape\n",
    "            logits = logits.view(B*T, C)\n",
    "            targets = targets.view(B*T)\n",
    "            loss = F.cross_entropy(logits, targets)\n",
    "\n",
    "        return logits, loss\n",
    "\n",
    "    def generate(self, idx, max_new_tokens):\n",
    "        # idx is (B, T) array of indices in the current context\n",
    "        for _ in range(max_new_tokens):\n",
    "            # crop idx to the last block_size tokens\n",
    "            idx_cond = idx[:, -block_size:]\n",
    "            # get the predictions\n",
    "            logits, loss = self(idx_cond)\n",
    "            # focus only on the last time step\n",
    "            logits = logits[:, -1, :] # becomes (B, C)\n",
    "            # apply softmax to get probabilities\n",
    "            probs = F.softmax(logits, dim=-1) # (B, C)\n",
    "            # sample from the distribution\n",
    "            idx_next = torch.multinomial(probs, num_samples=1) # (B, 1)\n",
    "            # append sampled index to the running sequence\n",
    "            idx = torch.cat((idx, idx_next), dim=1) # (B, T+1)\n",
    "            tknidx = torch.tensor([[idx2tknid[i] for i in row] for row in idx.tolist()])\n",
    "        return tknidx\n",
    "\n",
    "model = GPTLanguageModel().to(device)\n",
    "xb, yb = get_batch('train')\n",
    "logits, loss = model(torch.tensor([[tknid2idx[i] for i in row]\n",
    "                               for row in xb.tolist()]).to(device), \\\n",
    "                     torch.tensor([[tknid2idx[i] for i in row]\n",
    "                               for row in yb.tolist()]).to(device))\n",
    "print(logits.shape)\n",
    "print(loss)"
   ],
   "execution_count":18,
   "outputs":[
    {
     "name":"stdout",
     "text":[
      "torch.Size([2048, 6114])\n",
      "tensor(8.8032, device='cuda:0', grad_fn=<NllLossBackward0>)\n"
     ],
     "output_type":"stream"
    }
   ],
   "metadata":{
    "datalore":{
     "node_id":"hh4rtMlaNbd2VgjPtVmEDw",
     "type":"CODE",
     "hide_input_from_viewers":false,
     "hide_output_from_viewers":false,
     "report_properties":{
      "rowId":"HXbrG8FzKFdswhLvnFfZvT"
     }
    }
   }
  },
  {
   "cell_type":"code",
   "source":[
    "import matplotlib.pyplot as plt\n",
    "from IPython.display import clear_output, display"
   ],
   "execution_count":null,
   "outputs":[],
   "metadata":{
    "datalore":{
     "node_id":"goCHKMbN82xDUyrudBts1Y",
     "type":"CODE",
     "hide_input_from_viewers":false,
     "hide_output_from_viewers":false,
     "report_properties":{
      "rowId":"fpZh6r8bVqleV63105mEKt"
     }
    }
   }
  },
  {
   "cell_type":"code",
   "source":[
    "# create a PyTorch optimizer\n",
    "learning_rate = 2e-4\n",
    "optimizer = torch.optim.AdamW(model.parameters(), lr=learning_rate)"
   ],
   "execution_count":null,
   "outputs":[],
   "metadata":{
    "datalore":{
     "node_id":"rJDqmlVJ2ztP119L5gT2HD",
     "type":"CODE",
     "hide_input_from_viewers":false,
     "hide_output_from_viewers":false,
     "report_properties":{
      "rowId":"VA3rIxuBKmKMhJNiqmBHud"
     }
    }
   }
  },
  {
   "cell_type":"code",
   "source":[
    "train_losses = []\n",
    "iterations = []\n",
    "itr = 0"
   ],
   "execution_count":null,
   "outputs":[],
   "metadata":{
    "datalore":{
     "node_id":"fgKl0gCOK5CofwI34Gg2eh",
     "type":"CODE",
     "hide_input_from_viewers":false,
     "hide_output_from_viewers":false,
     "report_properties":{
      "rowId":"HI1SmdznHWlCXEg0iGYwyx"
     }
    }
   }
  },
  {
   "cell_type":"code",
   "source":[
    "max_iters = 3_000\n",
    "eval_iters = 200\n",
    "eval_interval = 100"
   ],
   "execution_count":null,
   "outputs":[],
   "metadata":{
    "datalore":{
     "node_id":"sKRSkwsy1DW5VVAzkR8Z4s",
     "type":"CODE",
     "hide_input_from_viewers":false,
     "hide_output_from_viewers":false,
     "report_properties":{
      "rowId":"zcfuw7EEpv7MHktCzR04Bv"
     }
    }
   }
  },
  {
   "cell_type":"code",
   "source":[
    "fig, ax = plt.subplots(figsize=(12, 4))\n",
    "\n",
    "for iter in range(max_iters):\n",
    "    # every once in a while evaluate the loss on train and val sets\n",
    "    if iter % eval_interval == 0 or iter == max_iters - 1:\n",
    "        try:\n",
    "            losses = estimate_loss()\n",
    "        except Exception as e:\n",
    "            print(f\"Error in estimate_loss(): {e}\")\n",
    "            import traceback\n",
    "            traceback.print_exc()\n",
    "        train_losses.append(losses['train'])\n",
    "        iterations.append(itr)\n",
    "\n",
    "        clear_output(wait=True)\n",
    "        ax.plot(iterations, train_losses, 'c-')\n",
    "        plt.pause(0.001)\n",
    "        display(fig)\n",
    "\n",
    "    # sample a batch of data\n",
    "    xb, yb = get_batch('train')\n",
    "\n",
    "    # evaluate the loss\n",
    "    logits, loss = model(torch.tensor([[tknid2idx[i] for i in row]\n",
    "                               for row in xb.tolist()]).to(device), \\\n",
    "                         torch.tensor([[tknid2idx[i] for i in row]\n",
    "                               for row in yb.tolist()]).to(device))\n",
    "    optimizer.zero_grad(set_to_none=True)\n",
    "    loss.backward()\n",
    "    optimizer.step()\n",
    "    itr += 1"
   ],
   "execution_count":23,
   "outputs":[
    {
     "data":{
      "text\/plain":[
       "<Figure size 1200x400 with 1 Axes>"
      ]
     },
     "metadata":{},
     "output_type":"display_data"
    },
    {
     "data":{
      "image\/png":"[encoded data removed]"
     },
     "metadata":{
      "image\/png":{}
     },
     "output_type":"display_data"
    }
   ],
   "metadata":{
    "datalore":{
     "node_id":"4TZQgGVKG43ufSkXi61ej2",
     "type":"CODE",
     "hide_input_from_viewers":false,
     "hide_output_from_viewers":false,
     "report_properties":{
      "rowId":"Ngvr1OgvkGpbebe4pcxm9c"
     }
    }
   }
  },
  {
   "cell_type":"code",
   "source":[
    "prompt = 'All'\n",
    "out = encode(prompt)\n",
    "print(decode(model.generate(idx = torch.tensor(out, dtype=torch.long).view(1, -1).to(device), max_new_tokens=500)[0].tolist()))"
   ],
   "execution_count":24,
   "outputs":[
    {
     "name":"stdout",
     "text":[
      " norms for its city of objects we owe the destruction. They done for suck and ripping us off.\n",
      "\n",
      "This is to technologies.\n",
      "\n",
      "For every day, they point of those who work with rhetorical flourish, and they want to make sure that they need to continue to serve their country — and so much more than in fact —.\n",
      "\n",
      "And folks are not made after 400,000 their communities in the list of recent years.\n",
      "\n",
      "A single day when we can do it together.\n",
      "\n",
      "This is a significant laws ever philosopher Kierkegaard: “[F]a transparency, each and minority. That’s a President, and gets sick.\n",
      "\n",
      "When I cautioned the government rebuilding of Israel wrong, and natural to fulfill unacceptable.\n",
      "\n",
      "The private jets, which I was a pandemic only six months before him a major who had gotten in such woman a long time to fund — let me. And they stand just two- — I would go on a major who just rewards go to a minimum later, and they even pay for millions of four years as well to pay your families before the price for their aggression have $8,000 a month.\n",
      "\n",
      "But now, almost are bad $650 million from Czechoslovakia was under Soviet domination, on television toward plans. They add.\n",
      "\n",
      "End it back their mortgages. You’re making a first-ever White House Initiative on Women’s Health Research, almost all looked at me in God’s Health and said I invested in you were family farms — meeting in food, water, and directing the governmentemitism — including half of the region every asset they add up to the globe. They’re now significantly ramping up to rebuild the plant for the loopholes so their country forward to the biggest companies in Ukraine.\n",
      "\n",
      "It will pay for it just a minimum tax for the very wealthy divert or doing pipes that are fully vaccinated. Well, they were for paying good for everyone.\n",
      "\n",
      " Kremlin’s good could extend the hospitals in school official in cause, Ukrainians either would classexisting condition. These generation202ight, the Second Gentleman also want to my heart of the law called members of World War II.\n",
      "\n",
      "These principles haven’t let into the resolve. And we have two decades ago when the leaders stand here’s the forces are writing the greatest setbacks, our prioritizing the Roundtable, Afghanistan’s largest used to send of experts are doing the same thing again today with purpose: The longer controls our children.\n",
      "\n",
      "And to the scientists confirm that protection under the money was elected to your chance. \n",
      "\n",
      "Well, I suspect some\n"
     ],
     "output_type":"stream"
    }
   ],
   "metadata":{
    "datalore":{
     "node_id":"GBjwVwoXzBf2ciXzSIFCVj",
     "type":"CODE",
     "hide_input_from_viewers":false,
     "hide_output_from_viewers":false,
     "report_properties":{
      "rowId":"nEr2ol6U8qPPmPYwmkReU4"
     }
    }
   }
  },
  {
   "cell_type":"code",
   "source":[
    "torch.save(model.state_dict(), 'biden_GPT.pth')\n",
    "# m.load_state_dict(torch.load('biden_GPT.pth'))"
   ],
   "execution_count":null,
   "outputs":[],
   "metadata":{
    "datalore":{
     "node_id":"TpLpoqWRHUML9lBJ47eltX",
     "type":"CODE",
     "hide_input_from_viewers":false,
     "hide_output_from_viewers":false,
     "report_properties":{
      "rowId":"Fc6aVkasvoGbz4KUkyNDCJ"
     }
    }
   }
  }
 ],
 "metadata":{
  "kernelspec":{
   "display_name":"Python",
   "language":"python",
   "name":"python"
  },
  "datalore":{
   "computation_mode":"JUPYTER",
   "package_manager":"pip",
   "base_environment":"default",
   "packages":[],
   "report_row_ids":[
    "MmfhFdUlaSlFSWdK2d1tud",
    "ti3kh56jV0lf7Q24YGgX65",
    "bTXOT6laEet5EjNfA09NDv",
    "PkG79684Pd8aoq204IDbSB",
    "Q27BJL5jUZ6SXz1rp61JvM",
    "P497OgDaWbmKFFBXq4qYle",
    "kSgfuoYlj3y1UuhC8YgYfl",
    "Er2Qv45Tg0ajEjXJv86ZKy",
    "s0tDPIeZb9xevKL3LfHQAu",
    "kLLJlNs8svumLwaZY6uKqb",
    "MI5fLxZAI3W7vhjfyS5tNl",
    "wstTpCz2zsIpX2FRnh315K",
    "ZtwzZ4vaG9ai3yLX351NpM",
    "IoLl7Dgz8KCZkIgxgNOlMv",
    "XCez8eWbYExbNwJsaPiVmq",
    "b2klzu1boaCelvMnFmh4cl",
    "RtfTBY6sqZqjNn5yVVYIoJ",
    "HXbrG8FzKFdswhLvnFfZvT",
    "fpZh6r8bVqleV63105mEKt",
    "VA3rIxuBKmKMhJNiqmBHud",
    "HI1SmdznHWlCXEg0iGYwyx",
    "zcfuw7EEpv7MHktCzR04Bv",
    "Ngvr1OgvkGpbebe4pcxm9c",
    "nEr2ol6U8qPPmPYwmkReU4",
    "Fc6aVkasvoGbz4KUkyNDCJ"
   ],
   "version":3
  }
 },
 "nbformat":4,
 "nbformat_minor":4
}